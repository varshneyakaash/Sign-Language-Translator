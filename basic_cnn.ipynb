{
  "nbformat": 4,
  "nbformat_minor": 0,
  "metadata": {
    "colab": {
      "name": "basic_cnn.ipynb",
      "version": "0.3.2",
      "provenance": []
    },
    "kernelspec": {
      "name": "python3",
      "display_name": "Python 3"
    },
    "accelerator": "GPU"
  },
  "cells": [
    {
      "metadata": {
        "id": "Wp4jWE0IdgXG",
        "colab_type": "code",
        "colab": {}
      },
      "cell_type": "code",
      "source": [
        "from keras.datasets import mnist\n",
        "import matplotlib.pyplot as plt"
      ],
      "execution_count": 0,
      "outputs": []
    },
    {
      "metadata": {
        "id": "sZOLoJKqdwJb",
        "colab_type": "code",
        "colab": {}
      },
      "cell_type": "code",
      "source": [
        "#loading the data\n",
        "(X_train, y_train), (X_test, y_test) = mnist.load_data()"
      ],
      "execution_count": 0,
      "outputs": []
    },
    {
      "metadata": {
        "id": "XbTXLQYFdhbO",
        "colab_type": "code",
        "colab": {}
      },
      "cell_type": "code",
      "source": [
        "import numpy as np\n",
        "from keras.datasets import mnist\n",
        "from keras.models import Sequential\n",
        "from keras.layers import Dense\n",
        "from keras.layers import Dropout\n",
        "from keras.layers import Flatten\n",
        "from keras.layers.convolutional import Conv2D\n",
        "from keras.layers import Dense, Dropout, Flatten, Conv2D, MaxPool2D, BatchNormalization\n",
        "from keras.layers.convolutional import MaxPooling2D\n",
        "from keras.utils import np_utils\n",
        "from keras.utils import plot_model\n",
        "from keras import backend as K\n",
        "K.set_image_dim_ordering('th')"
      ],
      "execution_count": 0,
      "outputs": []
    },
    {
      "metadata": {
        "id": "7ypxNQ1ref7c",
        "colab_type": "code",
        "colab": {
          "base_uri": "https://localhost:8080/",
          "height": 52
        },
        "outputId": "ddbe06dd-7c48-4658-dc17-1cca8c86ec01"
      },
      "cell_type": "code",
      "source": [
        "# fix random seed\n",
        "np.random.seed(7)\n",
        "num_pixels = X_train.shape[1] * X_train.shape[2]\n",
        "print(num_pixels)\n",
        "#flattening the image for training\n",
        "X_train = X_train.reshape(X_train.shape[0], 1, 28, 28).astype('float32')\n",
        "X_test = X_test.reshape(X_test.shape[0], 1, 28, 28).astype('float32')\n",
        "#normalizing input\n",
        "X_train /= 255\n",
        "X_test /= 255\n",
        "#setting the output\n",
        "y_train = np_utils.to_categorical(y_train)\n",
        "y_test = np_utils.to_categorical(y_test)\n",
        "num_classes = y_test.shape[1]\n",
        "print(num_classes)"
      ],
      "execution_count": 12,
      "outputs": [
        {
          "output_type": "stream",
          "text": [
            "784\n",
            "10\n"
          ],
          "name": "stdout"
        }
      ]
    },
    {
      "metadata": {
        "id": "hFxuMOwKhOFA",
        "colab_type": "code",
        "colab": {}
      },
      "cell_type": "code",
      "source": [
        "def cnn_model():\n",
        "    model = Sequential()\n",
        "    model.add(Conv2D(32, kernel_size=5,input_shape=(1, 28, 28), activation = 'relu'))\n",
        "    model.add(MaxPooling2D(2,2))\n",
        "    model.add(BatchNormalization())\n",
        "    model.add(Dropout(0.4))\n",
        "\n",
        "    model.add(Conv2D(64, kernel_size=3,activation = 'relu'))\n",
        "    model.add(Conv2D(64, kernel_size=3,activation = 'relu'))\n",
        "    model.add(MaxPooling2D(2,2))\n",
        "    model.add(BatchNormalization())\n",
        "    model.add(Dropout(0.4))\n",
        "\n",
        "    model.add(Conv2D(128, kernel_size=3, activation = 'relu'))\n",
        "    model.add(BatchNormalization())\n",
        "\n",
        "    model.add(Flatten())\n",
        "    model.add(Dense(256, activation = \"relu\"))\n",
        "    model.add(Dropout(0.4))\n",
        "    model.add(Dense(128, activation = \"relu\"))\n",
        "    model.add(Dropout(0.4))\n",
        "    model.add(Dense(10, activation = \"softmax\"))\n",
        "    \n",
        "    model.compile(loss='categorical_crossentropy', optimizer='adam', metrics=['accuracy'])\n",
        "    \n",
        "    return model"
      ],
      "execution_count": 0,
      "outputs": []
    },
    {
      "metadata": {
        "id": "jb33iv5kiCIO",
        "colab_type": "code",
        "colab": {
          "base_uri": "https://localhost:8080/",
          "height": 1441
        },
        "outputId": "6a608079-5019-4f0c-d411-90c6ad33735a"
      },
      "cell_type": "code",
      "source": [
        "model = cnn_model()\n",
        "model.fit(X_train, y_train, validation_data=(X_test, y_test), epochs=40, batch_size=200, verbose=2)\n",
        "scores = model.evaluate(X_test, y_test, verbose=0)\n",
        "print('CNN Error {}'.format(100-scores[1]*100))"
      ],
      "execution_count": 14,
      "outputs": [
        {
          "output_type": "stream",
          "text": [
            "Train on 60000 samples, validate on 10000 samples\n",
            "Epoch 1/40\n",
            " - 9s - loss: 0.4134 - acc: 0.8672 - val_loss: 0.0553 - val_acc: 0.9828\n",
            "Epoch 2/40\n",
            " - 8s - loss: 0.0980 - acc: 0.9714 - val_loss: 0.0392 - val_acc: 0.9885\n",
            "Epoch 3/40\n",
            " - 7s - loss: 0.0759 - acc: 0.9788 - val_loss: 0.0271 - val_acc: 0.9926\n",
            "Epoch 4/40\n",
            " - 7s - loss: 0.0602 - acc: 0.9833 - val_loss: 0.0270 - val_acc: 0.9914\n",
            "Epoch 5/40\n",
            " - 7s - loss: 0.0545 - acc: 0.9848 - val_loss: 0.0221 - val_acc: 0.9931\n",
            "Epoch 6/40\n",
            " - 7s - loss: 0.0479 - acc: 0.9864 - val_loss: 0.0215 - val_acc: 0.9937\n",
            "Epoch 7/40\n",
            " - 7s - loss: 0.0413 - acc: 0.9879 - val_loss: 0.0238 - val_acc: 0.9921\n",
            "Epoch 8/40\n",
            " - 7s - loss: 0.0410 - acc: 0.9885 - val_loss: 0.0181 - val_acc: 0.9943\n",
            "Epoch 9/40\n",
            " - 7s - loss: 0.0390 - acc: 0.9886 - val_loss: 0.0187 - val_acc: 0.9936\n",
            "Epoch 10/40\n",
            " - 7s - loss: 0.0355 - acc: 0.9899 - val_loss: 0.0184 - val_acc: 0.9944\n",
            "Epoch 11/40\n",
            " - 7s - loss: 0.0303 - acc: 0.9912 - val_loss: 0.0200 - val_acc: 0.9947\n",
            "Epoch 12/40\n",
            " - 7s - loss: 0.0308 - acc: 0.9912 - val_loss: 0.0187 - val_acc: 0.9946\n",
            "Epoch 13/40\n",
            " - 7s - loss: 0.0274 - acc: 0.9919 - val_loss: 0.0161 - val_acc: 0.9950\n",
            "Epoch 14/40\n",
            " - 7s - loss: 0.0255 - acc: 0.9924 - val_loss: 0.0156 - val_acc: 0.9956\n",
            "Epoch 15/40\n",
            " - 7s - loss: 0.0269 - acc: 0.9918 - val_loss: 0.0207 - val_acc: 0.9936\n",
            "Epoch 16/40\n",
            " - 7s - loss: 0.0238 - acc: 0.9928 - val_loss: 0.0163 - val_acc: 0.9947\n",
            "Epoch 17/40\n",
            " - 7s - loss: 0.0245 - acc: 0.9926 - val_loss: 0.0157 - val_acc: 0.9958\n",
            "Epoch 18/40\n",
            " - 7s - loss: 0.0240 - acc: 0.9930 - val_loss: 0.0165 - val_acc: 0.9947\n",
            "Epoch 19/40\n",
            " - 7s - loss: 0.0213 - acc: 0.9937 - val_loss: 0.0190 - val_acc: 0.9944\n",
            "Epoch 20/40\n",
            " - 7s - loss: 0.0219 - acc: 0.9934 - val_loss: 0.0169 - val_acc: 0.9955\n",
            "Epoch 21/40\n",
            " - 7s - loss: 0.0207 - acc: 0.9937 - val_loss: 0.0175 - val_acc: 0.9944\n",
            "Epoch 22/40\n",
            " - 7s - loss: 0.0204 - acc: 0.9940 - val_loss: 0.0182 - val_acc: 0.9952\n",
            "Epoch 23/40\n",
            " - 7s - loss: 0.0186 - acc: 0.9948 - val_loss: 0.0159 - val_acc: 0.9952\n",
            "Epoch 24/40\n",
            " - 7s - loss: 0.0177 - acc: 0.9944 - val_loss: 0.0158 - val_acc: 0.9959\n",
            "Epoch 25/40\n",
            " - 7s - loss: 0.0177 - acc: 0.9946 - val_loss: 0.0172 - val_acc: 0.9955\n",
            "Epoch 26/40\n",
            " - 7s - loss: 0.0159 - acc: 0.9957 - val_loss: 0.0212 - val_acc: 0.9945\n",
            "Epoch 27/40\n",
            " - 7s - loss: 0.0166 - acc: 0.9948 - val_loss: 0.0183 - val_acc: 0.9953\n",
            "Epoch 28/40\n",
            " - 7s - loss: 0.0170 - acc: 0.9947 - val_loss: 0.0176 - val_acc: 0.9957\n",
            "Epoch 29/40\n",
            " - 7s - loss: 0.0161 - acc: 0.9951 - val_loss: 0.0190 - val_acc: 0.9948\n",
            "Epoch 30/40\n",
            " - 7s - loss: 0.0157 - acc: 0.9952 - val_loss: 0.0142 - val_acc: 0.9959\n",
            "Epoch 31/40\n",
            " - 7s - loss: 0.0133 - acc: 0.9957 - val_loss: 0.0174 - val_acc: 0.9955\n",
            "Epoch 32/40\n",
            " - 7s - loss: 0.0143 - acc: 0.9954 - val_loss: 0.0203 - val_acc: 0.9941\n",
            "Epoch 33/40\n",
            " - 7s - loss: 0.0139 - acc: 0.9959 - val_loss: 0.0187 - val_acc: 0.9949\n",
            "Epoch 34/40\n",
            " - 7s - loss: 0.0125 - acc: 0.9966 - val_loss: 0.0183 - val_acc: 0.9954\n",
            "Epoch 35/40\n",
            " - 7s - loss: 0.0128 - acc: 0.9962 - val_loss: 0.0196 - val_acc: 0.9950\n",
            "Epoch 36/40\n",
            " - 7s - loss: 0.0130 - acc: 0.9963 - val_loss: 0.0175 - val_acc: 0.9961\n",
            "Epoch 37/40\n",
            " - 7s - loss: 0.0135 - acc: 0.9959 - val_loss: 0.0164 - val_acc: 0.9957\n",
            "Epoch 38/40\n",
            " - 7s - loss: 0.0125 - acc: 0.9964 - val_loss: 0.0187 - val_acc: 0.9957\n",
            "Epoch 39/40\n",
            " - 7s - loss: 0.0113 - acc: 0.9963 - val_loss: 0.0240 - val_acc: 0.9941\n",
            "Epoch 40/40\n",
            " - 7s - loss: 0.0115 - acc: 0.9964 - val_loss: 0.0183 - val_acc: 0.9960\n",
            "CNN Error 0.4000000000000057\n"
          ],
          "name": "stdout"
        }
      ]
    },
    {
      "metadata": {
        "id": "bC7mb9KriwTx",
        "colab_type": "code",
        "colab": {
          "base_uri": "https://localhost:8080/",
          "height": 746
        },
        "cellView": "both",
        "outputId": "81674b89-ceef-46a9-f667-f8e3988d310e"
      },
      "cell_type": "code",
      "source": [
        "model.summary()\n",
        "model.save('cnn.model')\n",
        "print('Model is being saved')"
      ],
      "execution_count": 18,
      "outputs": [
        {
          "output_type": "stream",
          "text": [
            "_________________________________________________________________\n",
            "Layer (type)                 Output Shape              Param #   \n",
            "=================================================================\n",
            "conv2d_5 (Conv2D)            (None, 32, 24, 24)        832       \n",
            "_________________________________________________________________\n",
            "max_pooling2d_3 (MaxPooling2 (None, 32, 12, 12)        0         \n",
            "_________________________________________________________________\n",
            "batch_normalization_4 (Batch (None, 32, 12, 12)        48        \n",
            "_________________________________________________________________\n",
            "dropout_5 (Dropout)          (None, 32, 12, 12)        0         \n",
            "_________________________________________________________________\n",
            "conv2d_6 (Conv2D)            (None, 64, 10, 10)        18496     \n",
            "_________________________________________________________________\n",
            "conv2d_7 (Conv2D)            (None, 64, 8, 8)          36928     \n",
            "_________________________________________________________________\n",
            "max_pooling2d_4 (MaxPooling2 (None, 64, 4, 4)          0         \n",
            "_________________________________________________________________\n",
            "batch_normalization_5 (Batch (None, 64, 4, 4)          16        \n",
            "_________________________________________________________________\n",
            "dropout_6 (Dropout)          (None, 64, 4, 4)          0         \n",
            "_________________________________________________________________\n",
            "conv2d_8 (Conv2D)            (None, 128, 2, 2)         73856     \n",
            "_________________________________________________________________\n",
            "batch_normalization_6 (Batch (None, 128, 2, 2)         8         \n",
            "_________________________________________________________________\n",
            "flatten_2 (Flatten)          (None, 512)               0         \n",
            "_________________________________________________________________\n",
            "dense_4 (Dense)              (None, 256)               131328    \n",
            "_________________________________________________________________\n",
            "dropout_7 (Dropout)          (None, 256)               0         \n",
            "_________________________________________________________________\n",
            "dense_5 (Dense)              (None, 128)               32896     \n",
            "_________________________________________________________________\n",
            "dropout_8 (Dropout)          (None, 128)               0         \n",
            "_________________________________________________________________\n",
            "dense_6 (Dense)              (None, 10)                1290      \n",
            "=================================================================\n",
            "Total params: 295,698\n",
            "Trainable params: 295,662\n",
            "Non-trainable params: 36\n",
            "_________________________________________________________________\n",
            "Model is being saved\n"
          ],
          "name": "stdout"
        }
      ]
    }
  ]
}