{
  "nbformat": 4,
  "nbformat_minor": 0,
  "metadata": {
    "colab": {
      "name": "baseline_model.ipynb",
      "version": "0.3.2",
      "provenance": []
    },
    "kernelspec": {
      "name": "python3",
      "display_name": "Python 3"
    }
  },
  "cells": [
    {
      "metadata": {
        "id": "Wp4jWE0IdgXG",
        "colab_type": "code",
        "colab": {
          "base_uri": "https://localhost:8080/",
          "height": 34
        },
        "outputId": "9d270a5e-5b1a-4133-a092-f96fbab20008"
      },
      "cell_type": "code",
      "source": [
        "from keras.datasets import mnist\n",
        "import matplotlib.pyplot as plt"
      ],
      "execution_count": 2,
      "outputs": [
        {
          "output_type": "stream",
          "text": [
            "Using TensorFlow backend.\n"
          ],
          "name": "stderr"
        }
      ]
    },
    {
      "metadata": {
        "id": "sZOLoJKqdwJb",
        "colab_type": "code",
        "colab": {}
      },
      "cell_type": "code",
      "source": [
        "#loading the data\n",
        "(X_train, y_train), (X_test, y_test) = mnist.load_data()"
      ],
      "execution_count": 0,
      "outputs": []
    },
    {
      "metadata": {
        "id": "XbTXLQYFdhbO",
        "colab_type": "code",
        "colab": {}
      },
      "cell_type": "code",
      "source": [
        "import numpy as np\n",
        "from keras.models import Sequential\n",
        "from keras.layers import Dense\n",
        "from keras.layers import Dropout\n",
        "from keras.utils import np_utils"
      ],
      "execution_count": 0,
      "outputs": []
    },
    {
      "metadata": {
        "id": "7ypxNQ1ref7c",
        "colab_type": "code",
        "colab": {
          "base_uri": "https://localhost:8080/",
          "height": 52
        },
        "outputId": "c303ab1b-8281-420a-c8ad-29a317657222"
      },
      "cell_type": "code",
      "source": [
        "# fix random seed\n",
        "np.random.seed(7)\n",
        "num_pixels = X_train.shape[1] * X_train.shape[2]\n",
        "print(num_pixels)\n",
        "#flattening the image for training\n",
        "X_train = X_train.reshape(X_train.shape[0], num_pixels).astype('float32')\n",
        "X_test = X_test.reshape(X_test.shape[0], num_pixels).astype('float32')\n",
        "#normalizing input\n",
        "X_train /= 255\n",
        "X_test /= 255\n",
        "#setting the output\n",
        "y_train = np_utils.to_categorical(y_train)\n",
        "y_test = np_utils.to_categorical(y_test)\n",
        "num_classes = y_test.shape[1]\n",
        "print(num_classes)"
      ],
      "execution_count": 5,
      "outputs": [
        {
          "output_type": "stream",
          "text": [
            "784\n",
            "10\n"
          ],
          "name": "stdout"
        }
      ]
    },
    {
      "metadata": {
        "id": "hFxuMOwKhOFA",
        "colab_type": "code",
        "colab": {}
      },
      "cell_type": "code",
      "source": [
        "def baseline_model():\n",
        "    model = Sequential()\n",
        "    model.add(Dense(num_pixels, input_dim=num_pixels, kernel_initializer='normal', activation='relu'))\n",
        "    model.add(Dense(num_classes, kernel_initializer='normal', activation='softmax'))\n",
        "    \n",
        "    model.compile(loss='categorical_crossentropy', optimizer='adam', metrics=['accuracy'])\n",
        "    \n",
        "    return model"
      ],
      "execution_count": 0,
      "outputs": []
    },
    {
      "metadata": {
        "id": "jb33iv5kiCIO",
        "colab_type": "code",
        "colab": {
          "base_uri": "https://localhost:8080/",
          "height": 853
        },
        "outputId": "870029be-7dfa-46a4-e864-20241fd18662"
      },
      "cell_type": "code",
      "source": [
        "model = baseline_model()\n",
        "model.fit(X_train, y_train, validation_data=(X_test, y_test), epochs=20, batch_size=200, verbose=2)\n",
        "scores = model.evaluate(X_test, y_test, verbose=0)\n",
        "print('Baseine Error {}'.format(100-scores[1]*100))"
      ],
      "execution_count": 8,
      "outputs": [
        {
          "output_type": "stream",
          "text": [
            "Exception ignored in: <bound method TF_Output.<lambda> of <tensorflow.python.pywrap_tensorflow_internal.TF_Output; proxy of <Swig Object of type 'TF_Output *' at 0x7f908bc98f00> >>\n",
            "Traceback (most recent call last):\n",
            "  File \"/usr/local/lib/python3.6/dist-packages/tensorflow/python/pywrap_tensorflow_internal.py\", line 963, in <lambda>\n",
            "    __del__ = lambda self: None\n",
            "KeyboardInterrupt: \n"
          ],
          "name": "stderr"
        },
        {
          "output_type": "stream",
          "text": [
            "Train on 60000 samples, validate on 10000 samples\n",
            "Epoch 1/20\n",
            " - 6s - loss: 0.2782 - acc: 0.9210 - val_loss: 0.1415 - val_acc: 0.9570\n",
            "Epoch 2/20\n",
            " - 6s - loss: 0.1115 - acc: 0.9678 - val_loss: 0.0922 - val_acc: 0.9708\n",
            "Epoch 3/20\n",
            " - 6s - loss: 0.0717 - acc: 0.9797 - val_loss: 0.0782 - val_acc: 0.9774\n",
            "Epoch 4/20\n",
            " - 6s - loss: 0.0504 - acc: 0.9858 - val_loss: 0.0741 - val_acc: 0.9770\n",
            "Epoch 5/20\n",
            " - 6s - loss: 0.0373 - acc: 0.9894 - val_loss: 0.0669 - val_acc: 0.9788\n",
            "Epoch 6/20\n",
            " - 6s - loss: 0.0268 - acc: 0.9928 - val_loss: 0.0636 - val_acc: 0.9811\n",
            "Epoch 7/20\n",
            " - 6s - loss: 0.0213 - acc: 0.9947 - val_loss: 0.0625 - val_acc: 0.9803\n",
            "Epoch 8/20\n",
            " - 6s - loss: 0.0141 - acc: 0.9972 - val_loss: 0.0621 - val_acc: 0.9805\n",
            "Epoch 9/20\n",
            " - 6s - loss: 0.0107 - acc: 0.9979 - val_loss: 0.0580 - val_acc: 0.9814\n",
            "Epoch 10/20\n",
            " - 6s - loss: 0.0078 - acc: 0.9986 - val_loss: 0.0600 - val_acc: 0.9815\n",
            "Epoch 11/20\n",
            " - 6s - loss: 0.0065 - acc: 0.9988 - val_loss: 0.0640 - val_acc: 0.9809\n",
            "Epoch 12/20\n",
            " - 6s - loss: 0.0050 - acc: 0.9991 - val_loss: 0.0589 - val_acc: 0.9829\n",
            "Epoch 13/20\n",
            " - 6s - loss: 0.0039 - acc: 0.9994 - val_loss: 0.0625 - val_acc: 0.9829\n",
            "Epoch 14/20\n",
            " - 6s - loss: 0.0034 - acc: 0.9995 - val_loss: 0.0621 - val_acc: 0.9828\n",
            "Epoch 15/20\n",
            " - 6s - loss: 0.0019 - acc: 0.9999 - val_loss: 0.0641 - val_acc: 0.9840\n",
            "Epoch 16/20\n",
            " - 6s - loss: 0.0136 - acc: 0.9957 - val_loss: 0.0971 - val_acc: 0.9735\n",
            "Epoch 17/20\n",
            " - 6s - loss: 0.0086 - acc: 0.9974 - val_loss: 0.0713 - val_acc: 0.9812\n",
            "Epoch 18/20\n",
            " - 6s - loss: 0.0025 - acc: 0.9996 - val_loss: 0.0678 - val_acc: 0.9823\n",
            "Epoch 19/20\n",
            " - 6s - loss: 8.9380e-04 - acc: 1.0000 - val_loss: 0.0622 - val_acc: 0.9851\n",
            "Epoch 20/20\n",
            " - 6s - loss: 4.4228e-04 - acc: 1.0000 - val_loss: 0.0628 - val_acc: 0.9851\n",
            "Baseine Error 1.490000000000009\n"
          ],
          "name": "stdout"
        }
      ]
    },
    {
      "metadata": {
        "id": "bC7mb9KriwTx",
        "colab_type": "code",
        "colab": {}
      },
      "cell_type": "code",
      "source": [
        ""
      ],
      "execution_count": 0,
      "outputs": []
    }
  ]
}