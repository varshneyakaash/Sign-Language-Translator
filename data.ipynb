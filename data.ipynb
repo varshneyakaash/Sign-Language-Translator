{
  "nbformat": 4,
  "nbformat_minor": 0,
  "metadata": {
    "colab": {
      "name": "data.ipynb",
      "version": "0.3.2",
      "provenance": []
    },
    "kernelspec": {
      "name": "python3",
      "display_name": "Python 3"
    },
    "accelerator": "GPU"
  },
  "cells": [
    {
      "metadata": {
        "id": "KoBAc6XWEvTC",
        "colab_type": "code",
        "colab": {}
      },
      "cell_type": "code",
      "source": [
        "!pip install PyDrive"
      ],
      "execution_count": 0,
      "outputs": []
    },
    {
      "metadata": {
        "id": "VAbUyf0gE99y",
        "colab_type": "code",
        "colab": {}
      },
      "cell_type": "code",
      "source": [
        "import os\n",
        "from pydrive.auth import GoogleAuth\n",
        "from pydrive.drive import GoogleDrive\n",
        "from google.colab import auth\n",
        "from oauth2client.client import GoogleCredentials"
      ],
      "execution_count": 0,
      "outputs": []
    },
    {
      "metadata": {
        "id": "kgyDFf5yFJwv",
        "colab_type": "code",
        "colab": {}
      },
      "cell_type": "code",
      "source": [
        "auth.authenticate_user()\n",
        "gauth = GoogleAuth()\n",
        "gauth.credentials = GoogleCredentials.get_application_default()\n",
        "drive = GoogleDrive(gauth)"
      ],
      "execution_count": 0,
      "outputs": []
    },
    {
      "metadata": {
        "id": "3u2AhLtlFJpq",
        "colab_type": "code",
        "colab": {}
      },
      "cell_type": "code",
      "source": [
        "download = drive.CreateFile({'id': '1pY8Rs7KRjoC2Pb47AJgBKPOs1_P2tLpH'})\n",
        "download.GetContentFile('dataset.tar')"
      ],
      "execution_count": 0,
      "outputs": []
    },
    {
      "metadata": {
        "id": "A10A_2KUOda1",
        "colab_type": "code",
        "colab": {
          "base_uri": "https://localhost:8080/",
          "height": 34
        },
        "outputId": "f88f4014-1387-4032-b772-e0088aae1156"
      },
      "cell_type": "code",
      "source": [
        "!ls"
      ],
      "execution_count": 6,
      "outputs": [
        {
          "output_type": "stream",
          "text": [
            "adc.json  dataset.tar  sample_data\n"
          ],
          "name": "stdout"
        }
      ]
    },
    {
      "metadata": {
        "id": "wxrJe_S0G0p4",
        "colab_type": "code",
        "colab": {}
      },
      "cell_type": "code",
      "source": [
        "!tar -xvf dataset.tar"
      ],
      "execution_count": 0,
      "outputs": []
    },
    {
      "metadata": {
        "id": "3NBpm8chKjuD",
        "colab_type": "code",
        "colab": {}
      },
      "cell_type": "code",
      "source": [
        "os.listdir('dataset')"
      ],
      "execution_count": 0,
      "outputs": []
    },
    {
      "metadata": {
        "id": "KWw0z1xlK0_6",
        "colab_type": "code",
        "colab": {
          "base_uri": "https://localhost:8080/",
          "height": 34
        },
        "outputId": "86047521-1686-4d00-ed59-9968e65ef65f"
      },
      "cell_type": "code",
      "source": [
        "!ls"
      ],
      "execution_count": 9,
      "outputs": [
        {
          "output_type": "stream",
          "text": [
            "adc.json  dataset  dataset.tar\tsample_data\n"
          ],
          "name": "stdout"
        }
      ]
    },
    {
      "metadata": {
        "id": "pDveQX0-ZjiW",
        "colab_type": "code",
        "colab": {
          "base_uri": "https://localhost:8080/",
          "height": 121
        },
        "outputId": "29127b24-233f-48ba-c951-065a71c87bfb"
      },
      "cell_type": "code",
      "source": [
        "import os\n",
        "import cv2\n",
        "import numpy as np\n",
        "import pickle\n",
        "from sklearn.model_selection import train_test_split\n",
        "\n",
        "\n",
        "def get_images_labels():\n",
        "    images = []\n",
        "    labels = []\n",
        "    for label in os.listdir('dataset'):\n",
        "        for i in range(2400):\n",
        "            img = cv2.imread('./dataset/'+ label + '/{}.jpg'.format(i+1), 0)\n",
        "            images.append(np.array(img, dtype=np.uint8))\n",
        "            labels.append(label)\n",
        "\n",
        "    return images, labels\n",
        "\n",
        "images, labels = get_images_labels()\n",
        "images = np.array(images, dtype=\"float\")\n",
        "labels = np.array(labels)\n",
        "print('Size of images', len(images))\n",
        "print('Size of labels', len(labels))\n",
        "(Xtrain, Xtest, Ytrain, Ytest) = train_test_split(images, labels, test_size=0.3, random_state=42)\n",
        "print('Size of Xtrain', Xtrain.shape)\n",
        "print('Size of Xtest', Xtest.shape)\n",
        "print('Size of Ytrain', Ytrain.shape)\n",
        "print('Size of Ytest', Ytest.shape)\n",
        "\n"
      ],
      "execution_count": 10,
      "outputs": [
        {
          "output_type": "stream",
          "text": [
            "Size of images 105600\n",
            "Size of labels 105600\n",
            "Size of Xtrain (73920, 50, 50)\n",
            "Size of Xtest (31680, 50, 50)\n",
            "Size of Ytrain (73920,)\n",
            "Size of Ytest (31680,)\n"
          ],
          "name": "stdout"
        }
      ]
    },
    {
      "metadata": {
        "id": "RnzzXGMnZdXv",
        "colab_type": "code",
        "colab": {
          "base_uri": "https://localhost:8080/",
          "height": 34
        },
        "outputId": "64083ebe-5e65-4877-e187-050a85582d5e"
      },
      "cell_type": "code",
      "source": [
        "from keras.models import Sequential\n",
        "from keras.layers import Dense\n",
        "from keras.layers import Dropout\n",
        "from keras.layers import Flatten\n",
        "from keras.layers.convolutional import Conv2D\n",
        "from keras.layers import Dense, Dropout, Flatten, Conv2D, MaxPool2D, BatchNormalization\n",
        "from keras.layers.convolutional import MaxPooling2D\n",
        "from keras.utils import np_utils\n",
        "from keras.utils import plot_model\n",
        "from keras import backend as K\n",
        "K.set_image_dim_ordering('th')"
      ],
      "execution_count": 11,
      "outputs": [
        {
          "output_type": "stream",
          "text": [
            "Using TensorFlow backend.\n"
          ],
          "name": "stderr"
        }
      ]
    },
    {
      "metadata": {
        "id": "KJj8NmQUdKzB",
        "colab_type": "code",
        "colab": {
          "base_uri": "https://localhost:8080/",
          "height": 86
        },
        "outputId": "3709cc56-a134-4bbb-df7c-63349113fbef"
      },
      "cell_type": "code",
      "source": [
        "# fix random seed\n",
        "np.random.seed(7)\n",
        "num_pixels = Xtrain.shape[1] * Xtrain.shape[2]\n",
        "print(num_pixels)\n",
        "#flattening the image for training\n",
        "Xtrain = Xtrain.reshape(Xtrain.shape[0], 1, 50, 50).astype('float32')\n",
        "Xtest = Xtest.reshape(Xtest.shape[0], 1, 50, 50).astype('float32')\n",
        "#normalizing input\n",
        "Xtrain /= 255\n",
        "Xtest /= 255\n",
        "#setting the output\n",
        "Ytrain = np_utils.to_categorical(Ytrain)\n",
        "Ytest = np_utils.to_categorical(Ytest)\n",
        "print(Ytrain.shape)\n",
        "print(Ytest.shape)\n",
        "num_classes = Ytest.shape[1]\n",
        "\n",
        "print(num_classes)"
      ],
      "execution_count": 12,
      "outputs": [
        {
          "output_type": "stream",
          "text": [
            "2500\n",
            "(73920, 44)\n",
            "(31680, 44)\n",
            "44\n"
          ],
          "name": "stdout"
        }
      ]
    },
    {
      "metadata": {
        "id": "PoDQhDlIfPIi",
        "colab_type": "code",
        "colab": {}
      },
      "cell_type": "code",
      "source": [
        "def cnn_model():\n",
        "    model = Sequential()\n",
        "    model.add(Conv2D(32, kernel_size=5,input_shape=(1, 50, 50), activation = 'relu'))\n",
        "    model.add(MaxPooling2D(2,2))\n",
        "    model.add(BatchNormalization())\n",
        "    model.add(Dropout(0.4))\n",
        "\n",
        "    model.add(Conv2D(64, kernel_size=3,activation = 'relu'))\n",
        "    model.add(Conv2D(64, kernel_size=3,activation = 'relu'))\n",
        "    model.add(MaxPooling2D(2,2))\n",
        "    model.add(BatchNormalization())\n",
        "    model.add(Dropout(0.4))\n",
        "\n",
        "    model.add(Conv2D(128, kernel_size=3, activation = 'relu'))\n",
        "    model.add(BatchNormalization())\n",
        "\n",
        "    model.add(Flatten())\n",
        "    model.add(Dense(256, activation = \"relu\"))\n",
        "    model.add(Dropout(0.4))\n",
        "    model.add(Dense(128, activation = \"relu\"))\n",
        "    model.add(Dropout(0.4))\n",
        "    model.add(Dense(44, activation = \"softmax\"))\n",
        "    \n",
        "    model.compile(loss='categorical_crossentropy', optimizer='adam', metrics=['accuracy'])\n",
        "    \n",
        "    return model"
      ],
      "execution_count": 0,
      "outputs": []
    },
    {
      "metadata": {
        "id": "WBMZtLWofP9t",
        "colab_type": "code",
        "colab": {
          "base_uri": "https://localhost:8080/",
          "height": 399
        },
        "outputId": "27e4fde9-e08c-47c4-855a-c6a26c1b01a7"
      },
      "cell_type": "code",
      "source": [
        "model = cnn_model()\n",
        "model.fit(Xtrain, Ytrain, validation_data=(Xtest, Ytest), epochs=40, batch_size=512, verbose=2)\n",
        "scores = model.evaluate(Xtest, Ytest, verbose=0)\n",
        "print('CNN Error {}'.format(100-scores[1]*100))"
      ],
      "execution_count": 14,
      "outputs": [
        {
          "output_type": "stream",
          "text": [
            "Train on 73920 samples, validate on 31680 samples\n",
            "Epoch 1/10\n",
            " - 24s - loss: 1.0683 - acc: 0.6999 - val_loss: 0.0199 - val_acc: 0.9949\n",
            "Epoch 2/10\n",
            " - 21s - loss: 0.0696 - acc: 0.9775 - val_loss: 0.0029 - val_acc: 0.9992\n",
            "Epoch 3/10\n",
            " - 21s - loss: 0.0309 - acc: 0.9905 - val_loss: 0.0011 - val_acc: 0.9996\n",
            "Epoch 4/10\n",
            " - 21s - loss: 0.0215 - acc: 0.9937 - val_loss: 7.1545e-04 - val_acc: 0.9997\n",
            "Epoch 5/10\n",
            " - 21s - loss: 0.0177 - acc: 0.9947 - val_loss: 5.4406e-04 - val_acc: 0.9997\n",
            "Epoch 6/10\n",
            " - 21s - loss: 0.0140 - acc: 0.9960 - val_loss: 1.7302e-04 - val_acc: 0.9999\n",
            "Epoch 7/10\n",
            " - 21s - loss: 0.0126 - acc: 0.9958 - val_loss: 1.1202e-04 - val_acc: 0.9999\n",
            "Epoch 8/10\n",
            " - 21s - loss: 0.0127 - acc: 0.9963 - val_loss: 5.7814e-05 - val_acc: 1.0000\n",
            "Epoch 9/10\n",
            " - 21s - loss: 0.0121 - acc: 0.9964 - val_loss: 1.6899e-04 - val_acc: 0.9999\n",
            "Epoch 10/10\n",
            " - 21s - loss: 0.0091 - acc: 0.9973 - val_loss: 2.0074e-04 - val_acc: 0.9999\n",
            "CNN Error 0.006313131313135045\n"
          ],
          "name": "stdout"
        }
      ]
    },
    {
      "metadata": {
        "id": "oKRiYvhbTtMx",
        "colab_type": "code",
        "colab": {
          "base_uri": "https://localhost:8080/",
          "height": 746
        },
        "outputId": "2d1d646b-eee9-477c-f773-fcda53cd5b94"
      },
      "cell_type": "code",
      "source": [
        "model.summary()\n",
        "model.save('data.h5')\n",
        "print('Model is being saved')"
      ],
      "execution_count": 20,
      "outputs": [
        {
          "output_type": "stream",
          "text": [
            "_________________________________________________________________\n",
            "Layer (type)                 Output Shape              Param #   \n",
            "=================================================================\n",
            "conv2d_1 (Conv2D)            (None, 32, 46, 46)        832       \n",
            "_________________________________________________________________\n",
            "max_pooling2d_1 (MaxPooling2 (None, 32, 23, 23)        0         \n",
            "_________________________________________________________________\n",
            "batch_normalization_1 (Batch (None, 32, 23, 23)        92        \n",
            "_________________________________________________________________\n",
            "dropout_1 (Dropout)          (None, 32, 23, 23)        0         \n",
            "_________________________________________________________________\n",
            "conv2d_2 (Conv2D)            (None, 64, 21, 21)        18496     \n",
            "_________________________________________________________________\n",
            "conv2d_3 (Conv2D)            (None, 64, 19, 19)        36928     \n",
            "_________________________________________________________________\n",
            "max_pooling2d_2 (MaxPooling2 (None, 64, 9, 9)          0         \n",
            "_________________________________________________________________\n",
            "batch_normalization_2 (Batch (None, 64, 9, 9)          36        \n",
            "_________________________________________________________________\n",
            "dropout_2 (Dropout)          (None, 64, 9, 9)          0         \n",
            "_________________________________________________________________\n",
            "conv2d_4 (Conv2D)            (None, 128, 7, 7)         73856     \n",
            "_________________________________________________________________\n",
            "batch_normalization_3 (Batch (None, 128, 7, 7)         28        \n",
            "_________________________________________________________________\n",
            "flatten_1 (Flatten)          (None, 6272)              0         \n",
            "_________________________________________________________________\n",
            "dense_1 (Dense)              (None, 256)               1605888   \n",
            "_________________________________________________________________\n",
            "dropout_3 (Dropout)          (None, 256)               0         \n",
            "_________________________________________________________________\n",
            "dense_2 (Dense)              (None, 128)               32896     \n",
            "_________________________________________________________________\n",
            "dropout_4 (Dropout)          (None, 128)               0         \n",
            "_________________________________________________________________\n",
            "dense_3 (Dense)              (None, 44)                5676      \n",
            "=================================================================\n",
            "Total params: 1,774,728\n",
            "Trainable params: 1,774,650\n",
            "Non-trainable params: 78\n",
            "_________________________________________________________________\n",
            "Model is being saved\n"
          ],
          "name": "stdout"
        }
      ]
    },
    {
      "metadata": {
        "id": "Hua6-mytTtlK",
        "colab_type": "code",
        "colab": {
          "base_uri": "https://localhost:8080/",
          "height": 34
        },
        "outputId": "da964775-2f74-4504-fdd9-940e44e55e8c"
      },
      "cell_type": "code",
      "source": [
        "!ls\n"
      ],
      "execution_count": 17,
      "outputs": [
        {
          "output_type": "stream",
          "text": [
            "adc.json  data.h5  dataset  dataset.tar  sample_data\n"
          ],
          "name": "stdout"
        }
      ]
    }
  ]
}